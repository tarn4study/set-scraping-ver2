{
 "cells": [
  {
   "cell_type": "code",
   "execution_count": 2,
   "metadata": {},
   "outputs": [],
   "source": [
    "from selenium import webdriver\n",
    "from selenium.webdriver.chrome.service import Service \n",
    "from webdriver_manager.chrome import ChromeDriverManager\n",
    "import pandas as pd\n",
    "import json"
   ]
  },
  {
   "cell_type": "code",
   "execution_count": 2,
   "metadata": {},
   "outputs": [
    {
     "name": "stderr",
     "output_type": "stream",
     "text": [
      "[WDM] - Downloading: 100%|██████████| 6.81M/6.81M [00:02<00:00, 2.46MB/s]\n"
     ]
    }
   ],
   "source": [
    "driver = webdriver.Chrome(service = Service(ChromeDriverManager().install()))"
   ]
  },
  {
   "attachments": {},
   "cell_type": "markdown",
   "metadata": {},
   "source": [
    "# I want to use this for try to scrape with json file"
   ]
  },
  {
   "cell_type": "code",
   "execution_count": null,
   "metadata": {},
   "outputs": [],
   "source": [
    "web = ['AGRO', 'CONMAT', 'CONSUMP', 'FICIAL', 'INDUS', 'RESOURC', 'SERVICE', 'TECH']"
   ]
  },
  {
   "cell_type": "code",
   "execution_count": null,
   "metadata": {},
   "outputs": [],
   "source": [
    "for w in web:\n",
    "    with open(r\"D:\\Project\\web scraping\\version2\\web\\\"+ w +\".json\") as json_file:\n",
    "        "
   ]
  },
  {
   "cell_type": "code",
   "execution_count": 8,
   "metadata": {},
   "outputs": [
    {
     "name": "stdout",
     "output_type": "stream",
     "text": [
      "Type<class 'dict'>\n",
      "dict_keys(['EE', 'GFPT', 'LEE', 'MAX', 'NER', 'PPPM', 'STA', 'TEGH', 'TFM', 'TRUBB', 'TWPC', 'UPOIC', 'UVAN', 'VPO', 'AAI', 'APURE', 'ASIAN', 'BR', 'BRR', 'BTG', 'CBG', 'CFRESH', 'CH', 'CHOTI', 'CM', 'CPF', 'CPI', 'F&D', 'GLOCON', 'HTC', 'ICHI', 'ITC', 'JDF', 'KBS', 'KSL', 'KTIS', 'LST', 'M', 'MALEE', 'MINT', 'NRF', 'NSL', 'OISHI', 'OSP', 'PB', 'PLUS', 'PM', 'PQS', 'PRG', 'RBF', 'SAPPE', 'SAUCE', 'SFP', 'SNNP', 'SNP', 'SORKON', 'SSC', 'SSF', 'SST', 'SUN', 'TC', 'TFG', 'TFMAMA', 'TIPCO', 'TKN', 'TU', 'TVO', 'W', 'ZEN'])\n",
      "dict_values(['https://www.set.or.th/th/market/product/stock/quote/EE/financial-statement/company-highlights', 'https://www.set.or.th/th/market/product/stock/quote/GFPT/financial-statement/company-highlights', 'https://www.set.or.th/th/market/product/stock/quote/LEE/financial-statement/company-highlights', 'https://www.set.or.th/th/market/product/stock/quote/MAX/financial-statement/company-highlights', 'https://www.set.or.th/th/market/product/stock/quote/NER/financial-statement/company-highlights', 'https://www.set.or.th/th/market/product/stock/quote/PPPM/financial-statement/company-highlights', 'https://www.set.or.th/th/market/product/stock/quote/STA/financial-statement/company-highlights', 'https://www.set.or.th/th/market/product/stock/quote/TEGH/financial-statement/company-highlights', 'https://www.set.or.th/th/market/product/stock/quote/TFM/financial-statement/company-highlights', 'https://www.set.or.th/th/market/product/stock/quote/TRUBB/financial-statement/company-highlights', 'https://www.set.or.th/th/market/product/stock/quote/TWPC/financial-statement/company-highlights', 'https://www.set.or.th/th/market/product/stock/quote/UPOIC/financial-statement/company-highlights', 'https://www.set.or.th/th/market/product/stock/quote/UVAN/financial-statement/company-highlights', 'https://www.set.or.th/th/market/product/stock/quote/VPO/financial-statement/company-highlights', 'https://www.set.or.th/th/market/product/stock/quote/AAI/financial-statement/company-highlights', 'https://www.set.or.th/th/market/product/stock/quote/APURE/financial-statement/company-highlights', 'https://www.set.or.th/th/market/product/stock/quote/ASIAN/financial-statement/company-highlights', 'https://www.set.or.th/th/market/product/stock/quote/BR/financial-statement/company-highlights', 'https://www.set.or.th/th/market/product/stock/quote/BRR/financial-statement/company-highlights', 'https://www.set.or.th/th/market/product/stock/quote/BTG/financial-statement/company-highlights', 'https://www.set.or.th/th/market/product/stock/quote/CBG/financial-statement/company-highlights', 'https://www.set.or.th/th/market/product/stock/quote/CFRESH/financial-statement/company-highlights', 'https://www.set.or.th/th/market/product/stock/quote/CH/financial-statement/company-highlights', 'https://www.set.or.th/th/market/product/stock/quote/CHOTI/financial-statement/company-highlights', 'https://www.set.or.th/th/market/product/stock/quote/CM/financial-statement/company-highlights', 'https://www.set.or.th/th/market/product/stock/quote/CPF/financial-statement/company-highlights', 'https://www.set.or.th/th/market/product/stock/quote/CPI/financial-statement/company-highlights', 'https://www.set.or.th/th/market/product/stock/quote/F&D/financial-statement/company-highlights', 'https://www.set.or.th/th/market/product/stock/quote/GLOCON/financial-statement/company-highlights', 'https://www.set.or.th/th/market/product/stock/quote/HTC/financial-statement/company-highlights', 'https://www.set.or.th/th/market/product/stock/quote/ICHI/financial-statement/company-highlights', 'https://www.set.or.th/th/market/product/stock/quote/ITC/financial-statement/company-highlights', 'https://www.set.or.th/th/market/product/stock/quote/JDF/financial-statement/company-highlights', 'https://www.set.or.th/th/market/product/stock/quote/KBS/financial-statement/company-highlights', 'https://www.set.or.th/th/market/product/stock/quote/KSL/financial-statement/company-highlights', 'https://www.set.or.th/th/market/product/stock/quote/KTIS/financial-statement/company-highlights', 'https://www.set.or.th/th/market/product/stock/quote/LST/financial-statement/company-highlights', 'https://www.set.or.th/th/market/product/stock/quote/M/financial-statement/company-highlights', 'https://www.set.or.th/th/market/product/stock/quote/MALEE/financial-statement/company-highlights', 'https://www.set.or.th/th/market/product/stock/quote/MINT/financial-statement/company-highlights', 'https://www.set.or.th/th/market/product/stock/quote/NRF/financial-statement/company-highlights', 'https://www.set.or.th/th/market/product/stock/quote/NSL/financial-statement/company-highlights', 'https://www.set.or.th/th/market/product/stock/quote/OISHI/financial-statement/company-highlights', 'https://www.set.or.th/th/market/product/stock/quote/OSP/financial-statement/company-highlights', 'https://www.set.or.th/th/market/product/stock/quote/PB/financial-statement/company-highlights', 'https://www.set.or.th/th/market/product/stock/quote/PLUS/financial-statement/company-highlights', 'https://www.set.or.th/th/market/product/stock/quote/PM/financial-statement/company-highlights', 'https://www.set.or.th/th/market/product/stock/quote/PQS/financial-statement/company-highlights', 'https://www.set.or.th/th/market/product/stock/quote/PRG/financial-statement/company-highlights', 'https://www.set.or.th/th/market/product/stock/quote/RBF/financial-statement/company-highlights', 'https://www.set.or.th/th/market/product/stock/quote/SAPPE/financial-statement/company-highlights', 'https://www.set.or.th/th/market/product/stock/quote/SAUCE/financial-statement/company-highlights', 'https://www.set.or.th/th/market/product/stock/quote/SFP/financial-statement/company-highlights', 'https://www.set.or.th/th/market/product/stock/quote/SNNP/financial-statement/company-highlights', 'https://www.set.or.th/th/market/product/stock/quote/SNP/financial-statement/company-highlights', 'https://www.set.or.th/th/market/product/stock/quote/SORKON/financial-statement/company-highlights', 'https://www.set.or.th/th/market/product/stock/quote/SSC/financial-statement/company-highlights', 'https://www.set.or.th/th/market/product/stock/quote/SSF/financial-statement/company-highlights', 'https://www.set.or.th/th/market/product/stock/quote/SST/financial-statement/company-highlights', 'https://www.set.or.th/th/market/product/stock/quote/SUN/financial-statement/company-highlights', 'https://www.set.or.th/th/market/product/stock/quote/TC/financial-statement/company-highlights', 'https://www.set.or.th/th/market/product/stock/quote/TFG/financial-statement/company-highlights', 'https://www.set.or.th/th/market/product/stock/quote/TFMAMA/financial-statement/company-highlights', 'https://www.set.or.th/th/market/product/stock/quote/TIPCO/financial-statement/company-highlights', 'https://www.set.or.th/th/market/product/stock/quote/TKN/financial-statement/company-highlights', 'https://www.set.or.th/th/market/product/stock/quote/TU/financial-statement/company-highlights', 'https://www.set.or.th/th/market/product/stock/quote/TVO/financial-statement/company-highlights', 'https://www.set.or.th/th/market/product/stock/quote/W/financial-statement/company-highlights', 'https://www.set.or.th/th/market/product/stock/quote/ZEN/financial-statement/company-highlights'])\n"
     ]
    }
   ],
   "source": [
    "with open(r'D:\\Project\\web scraping\\version2\\web\\AGRO.json') as json_file:\n",
    "    agro = json.load(json_file)"
   ]
  },
  {
   "cell_type": "code",
   "execution_count": 3,
   "metadata": {},
   "outputs": [],
   "source": [
    "driver.close()"
   ]
  }
 ],
 "metadata": {
  "kernelspec": {
   "display_name": "set-S1HvF7hC",
   "language": "python",
   "name": "python3"
  },
  "language_info": {
   "codemirror_mode": {
    "name": "ipython",
    "version": 3
   },
   "file_extension": ".py",
   "mimetype": "text/x-python",
   "name": "python",
   "nbconvert_exporter": "python",
   "pygments_lexer": "ipython3",
   "version": "3.9.13"
  },
  "orig_nbformat": 4
 },
 "nbformat": 4,
 "nbformat_minor": 2
}
