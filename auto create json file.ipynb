{
 "cells": [
  {
   "cell_type": "code",
   "execution_count": 3,
   "metadata": {},
   "outputs": [],
   "source": [
    "from selenium import webdriver\n",
    "from selenium.webdriver.chrome.service import Service \n",
    "from webdriver_manager.chrome import ChromeDriverManager\n",
    "import pandas as pd\n",
    "from selenium.webdriver.common.by import By\n",
    "import json"
   ]
  },
  {
   "cell_type": "code",
   "execution_count": 21,
   "metadata": {},
   "outputs": [],
   "source": [
    "driver = webdriver.Chrome(service = Service(ChromeDriverManager().install()))"
   ]
  },
  {
   "cell_type": "code",
   "execution_count": 77,
   "metadata": {},
   "outputs": [],
   "source": [
    "driver.get(\"https://www.set.or.th/th/market/index/set/tech\")"
   ]
  },
  {
   "cell_type": "code",
   "execution_count": 78,
   "metadata": {},
   "outputs": [],
   "source": [
    "name = driver.find_elements(By.CSS_SELECTOR, \"div.symbol\")"
   ]
  },
  {
   "cell_type": "code",
   "execution_count": 79,
   "metadata": {},
   "outputs": [
    {
     "data": {
      "text/plain": [
       "'CCET'"
      ]
     },
     "execution_count": 79,
     "metadata": {},
     "output_type": "execute_result"
    }
   ],
   "source": [
    "name[0].text"
   ]
  },
  {
   "cell_type": "code",
   "execution_count": 44,
   "metadata": {},
   "outputs": [
    {
     "data": {
      "text/plain": [
       "94"
      ]
     },
     "execution_count": 44,
     "metadata": {},
     "output_type": "execute_result"
    }
   ],
   "source": [
    "len(name)"
   ]
  },
  {
   "cell_type": "code",
   "execution_count": 80,
   "metadata": {},
   "outputs": [],
   "source": [
    "dic = {}"
   ]
  },
  {
   "cell_type": "code",
   "execution_count": 81,
   "metadata": {},
   "outputs": [],
   "source": [
    "# https://www.set.or.th/th/market/product/stock/quote/EE/financial-statement/company-highlights\n",
    "for i in range(len(name)):\n",
    "    dic[name[i].text] = r\"https://www.set.or.th/th/market/product/stock/quote/\"+name[i].text+r\"/financial-statement/company-highlights\""
   ]
  },
  {
   "cell_type": "code",
   "execution_count": 82,
   "metadata": {},
   "outputs": [
    {
     "name": "stdout",
     "output_type": "stream",
     "text": [
      "43\n",
      "{'CCET': 'https://www.set.or.th/th/market/product/stock/quote/CCET/financial-statement/company-highlights', 'DELTA': 'https://www.set.or.th/th/market/product/stock/quote/DELTA/financial-statement/company-highlights', 'HANA': 'https://www.set.or.th/th/market/product/stock/quote/HANA/financial-statement/company-highlights', 'KCE': 'https://www.set.or.th/th/market/product/stock/quote/KCE/financial-statement/company-highlights', 'METCO': 'https://www.set.or.th/th/market/product/stock/quote/METCO/financial-statement/company-highlights', 'NEX': 'https://www.set.or.th/th/market/product/stock/quote/NEX/financial-statement/company-highlights', 'SMT': 'https://www.set.or.th/th/market/product/stock/quote/SMT/financial-statement/company-highlights', 'SVI': 'https://www.set.or.th/th/market/product/stock/quote/SVI/financial-statement/company-highlights', 'TEAM': 'https://www.set.or.th/th/market/product/stock/quote/TEAM/financial-statement/company-highlights', 'ADVANC': 'https://www.set.or.th/th/market/product/stock/quote/ADVANC/financial-statement/company-highlights', 'AIT': 'https://www.set.or.th/th/market/product/stock/quote/AIT/financial-statement/company-highlights', 'ALT': 'https://www.set.or.th/th/market/product/stock/quote/ALT/financial-statement/company-highlights', 'AMR': 'https://www.set.or.th/th/market/product/stock/quote/AMR/financial-statement/company-highlights', 'BLISS': 'https://www.set.or.th/th/market/product/stock/quote/BLISS/financial-statement/company-highlights', 'DIF': 'https://www.set.or.th/th/market/product/stock/quote/DIF/financial-statement/company-highlights', 'DTCENT': 'https://www.set.or.th/th/market/product/stock/quote/DTCENT/financial-statement/company-highlights', 'FORTH': 'https://www.set.or.th/th/market/product/stock/quote/FORTH/financial-statement/company-highlights', 'GABLE': 'https://www.set.or.th/th/market/product/stock/quote/GABLE/financial-statement/company-highlights', 'HUMAN': 'https://www.set.or.th/th/market/product/stock/quote/HUMAN/financial-statement/company-highlights', 'ILINK': 'https://www.set.or.th/th/market/product/stock/quote/ILINK/financial-statement/company-highlights', 'INET': 'https://www.set.or.th/th/market/product/stock/quote/INET/financial-statement/company-highlights', 'INSET': 'https://www.set.or.th/th/market/product/stock/quote/INSET/financial-statement/company-highlights', 'INTUCH': 'https://www.set.or.th/th/market/product/stock/quote/INTUCH/financial-statement/company-highlights', 'ITEL': 'https://www.set.or.th/th/market/product/stock/quote/ITEL/financial-statement/company-highlights', 'JAS': 'https://www.set.or.th/th/market/product/stock/quote/JAS/financial-statement/company-highlights', 'JASIF': 'https://www.set.or.th/th/market/product/stock/quote/JASIF/financial-statement/company-highlights', 'JMART': 'https://www.set.or.th/th/market/product/stock/quote/JMART/financial-statement/company-highlights', 'JTS': 'https://www.set.or.th/th/market/product/stock/quote/JTS/financial-statement/company-highlights', 'MFEC': 'https://www.set.or.th/th/market/product/stock/quote/MFEC/financial-statement/company-highlights', 'MSC': 'https://www.set.or.th/th/market/product/stock/quote/MSC/financial-statement/company-highlights', 'PT': 'https://www.set.or.th/th/market/product/stock/quote/PT/financial-statement/company-highlights', 'SAMART': 'https://www.set.or.th/th/market/product/stock/quote/SAMART/financial-statement/company-highlights', 'SAMTEL': 'https://www.set.or.th/th/market/product/stock/quote/SAMTEL/financial-statement/company-highlights', 'SDC': 'https://www.set.or.th/th/market/product/stock/quote/SDC/financial-statement/company-highlights', 'SIS': 'https://www.set.or.th/th/market/product/stock/quote/SIS/financial-statement/company-highlights', 'SKY': 'https://www.set.or.th/th/market/product/stock/quote/SKY/financial-statement/company-highlights', 'SVOA': 'https://www.set.or.th/th/market/product/stock/quote/SVOA/financial-statement/company-highlights', 'SYMC': 'https://www.set.or.th/th/market/product/stock/quote/SYMC/financial-statement/company-highlights', 'SYNEX': 'https://www.set.or.th/th/market/product/stock/quote/SYNEX/financial-statement/company-highlights', 'THCOM': 'https://www.set.or.th/th/market/product/stock/quote/THCOM/financial-statement/company-highlights', 'TKC': 'https://www.set.or.th/th/market/product/stock/quote/TKC/financial-statement/company-highlights', 'TRUE': 'https://www.set.or.th/th/market/product/stock/quote/TRUE/financial-statement/company-highlights', 'TWZ': 'https://www.set.or.th/th/market/product/stock/quote/TWZ/financial-statement/company-highlights'}\n"
     ]
    }
   ],
   "source": [
    "print(len(dic))\n",
    "print(dic)"
   ]
  },
  {
   "cell_type": "code",
   "execution_count": 83,
   "metadata": {},
   "outputs": [],
   "source": [
    "with open(\"TECH.json\", \"w\") as json_file:\n",
    "    json.dump(dic, json_file, indent = 4)"
   ]
  },
  {
   "cell_type": "code",
   "execution_count": 84,
   "metadata": {},
   "outputs": [],
   "source": [
    "driver.close()"
   ]
  }
 ],
 "metadata": {
  "kernelspec": {
   "display_name": "set-S1HvF7hC",
   "language": "python",
   "name": "python3"
  },
  "language_info": {
   "codemirror_mode": {
    "name": "ipython",
    "version": 3
   },
   "file_extension": ".py",
   "mimetype": "text/x-python",
   "name": "python",
   "nbconvert_exporter": "python",
   "pygments_lexer": "ipython3",
   "version": "3.9.13"
  },
  "orig_nbformat": 4
 },
 "nbformat": 4,
 "nbformat_minor": 2
}
